{
  "nbformat": 4,
  "nbformat_minor": 0,
  "metadata": {
    "colab": {
      "provenance": [],
      "authorship_tag": "ABX9TyONJBasK4Csvi15ebapaXKR",
      "include_colab_link": true
    },
    "kernelspec": {
      "name": "python3",
      "display_name": "Python 3"
    },
    "language_info": {
      "name": "python"
    }
  },
  "cells": [
    {
      "cell_type": "markdown",
      "metadata": {
        "id": "view-in-github",
        "colab_type": "text"
      },
      "source": [
        "<a href=\"https://colab.research.google.com/github/LeoJeffren/codsoft/blob/main/Credit.ipynb\" target=\"_parent\"><img src=\"https://colab.research.google.com/assets/colab-badge.svg\" alt=\"Open In Colab\"/></a>"
      ]
    },
    {
      "cell_type": "code",
      "execution_count": null,
      "metadata": {
        "colab": {
          "base_uri": "https://localhost:8080/"
        },
        "id": "pHpHv9gXtm3P",
        "outputId": "a2a7ad4b-a23f-4bd7-e853-da5e01ffcf0b"
      },
      "outputs": [
        {
          "output_type": "stream",
          "name": "stdout",
          "text": [
            "Checking for null values:\n",
            "Time      0\n",
            "V1        0\n",
            "V2        0\n",
            "V3        0\n",
            "V4        0\n",
            "V5        0\n",
            "V6        0\n",
            "V7        0\n",
            "V8        0\n",
            "V9        0\n",
            "V10       0\n",
            "V11       0\n",
            "V12       0\n",
            "V13       0\n",
            "V14       0\n",
            "V15       0\n",
            "V16       0\n",
            "V17       0\n",
            "V18       0\n",
            "V19       0\n",
            "V20       0\n",
            "V21       0\n",
            "V22       0\n",
            "V23       0\n",
            "V24       0\n",
            "V25       0\n",
            "V26       0\n",
            "V27       0\n",
            "V28       0\n",
            "Amount    1\n",
            "Class     1\n",
            "dtype: int64\n",
            "Confusion Matrix:\n",
            "[[2621    0]\n",
            " [   1    8]]\n",
            "\n",
            "Classification Report:\n",
            "              precision    recall  f1-score   support\n",
            "\n",
            "         0.0       1.00      1.00      1.00      2621\n",
            "         1.0       1.00      0.89      0.94         9\n",
            "\n",
            "    accuracy                           1.00      2630\n",
            "   macro avg       1.00      0.94      0.97      2630\n",
            "weighted avg       1.00      1.00      1.00      2630\n",
            "\n",
            "\n",
            "Accuracy Score:\n",
            "0.9996197718631179\n"
          ]
        }
      ],
      "source": [
        "#overall coding\n",
        "import pandas as pd\n",
        "import numpy as np\n",
        "from sklearn.model_selection import train_test_split\n",
        "from sklearn.preprocessing import StandardScaler\n",
        "from sklearn.ensemble import RandomForestClassifier\n",
        "from sklearn.metrics import classification_report, confusion_matrix, accuracy_score\n",
        "\n",
        "# Loading the dataset\n",
        "data = pd.read_csv('credit.csv')\n",
        "\n",
        "# Checking for null values\n",
        "print(\"Checking for null values:\")\n",
        "print(data.isnull().sum())\n",
        "\n",
        "# Droping rows where y is NaN\n",
        "data = data.dropna(subset=['Class'])\n",
        "\n",
        "# Separate features and target\n",
        "X = data.drop(['Class', 'Time'], axis=1)\n",
        "y = data['Class']\n",
        "\n",
        "# Check for null values in features and drop them\n",
        "X = X.dropna()\n",
        "y = y.loc[X.index]  # Ensure y matches the indices of the cleaned X\n",
        "\n",
        "# Feature scaling for 'Amount'\n",
        "scaler = StandardScaler()\n",
        "X['Amount'] = scaler.fit_transform(X[['Amount']])\n",
        "\n",
        "# Split the data into training and testing sets\n",
        "X_train, X_test, y_train, y_test = train_test_split(X, y, test_size=0.3, random_state=42, stratify=y)\n",
        "\n",
        "# Initialize the model\n",
        "model = RandomForestClassifier(n_estimators=100, random_state=42)\n",
        "\n",
        "# Train the model\n",
        "model.fit(X_train, y_train)\n",
        "\n",
        "# Make predictions\n",
        "y_pred = model.predict(X_test)\n",
        "\n",
        "# Evaluate the model\n",
        "print(\"Confusion Matrix:\")\n",
        "print(confusion_matrix(y_test, y_pred))\n",
        "\n",
        "print(\"\\nClassification Report:\")\n",
        "print(classification_report(y_test, y_pred))\n",
        "\n",
        "print(\"\\nAccuracy Score:\")\n",
        "print(accuracy_score(y_test, y_pred))"
      ]
    }
  ]
}